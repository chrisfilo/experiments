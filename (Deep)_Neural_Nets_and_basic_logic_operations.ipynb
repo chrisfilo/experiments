{
  "nbformat": 4,
  "nbformat_minor": 0,
  "metadata": {
    "colab": {
      "name": "(Deep) Neural Nets and basic logic operations.ipynb",
      "version": "0.3.2",
      "provenance": [],
      "collapsed_sections": [],
      "toc_visible": true,
      "include_colab_link": true
    },
    "kernelspec": {
      "name": "python3",
      "display_name": "Python 3"
    },
    "accelerator": "TPU"
  },
  "cells": [
    {
      "cell_type": "markdown",
      "metadata": {
        "id": "view-in-github",
        "colab_type": "text"
      },
      "source": [
        "<a href=\"https://colab.research.google.com/github/chrisfilo/experiments/blob/master/(Deep)_Neural_Nets_and_basic_logic_operations.ipynb\" target=\"_parent\"><img src=\"https://colab.research.google.com/assets/colab-badge.svg\" alt=\"Open In Colab\"/></a>"
      ]
    },
    {
      "metadata": {
        "id": "CqpCPdcOQ0hO",
        "colab_type": "text"
      },
      "cell_type": "markdown",
      "source": [
        "# Training simple neural nets to perform AND, OR, and XOR operations with Keras\n",
        "\n",
        "Back in the days, before the era of deep learning neural nets trained on GPUs, simple logical operations were oftern use to teach basics of artificial neural nets (perceptrons) and backpropagation. I thought it would be fun and educational to revist these topics with modern libraries such as Keras. Afterall deep understanding of simple systems can translated to better insights into complex multilayer networks."
      ]
    },
    {
      "metadata": {
        "id": "nQ8oMOjc-Fzv",
        "colab_type": "text"
      },
      "cell_type": "markdown",
      "source": [
        "## Logical OR\n",
        "Will start with a logical OR. As a reminder for two inputs we will get one output according to this rule:\n",
        "\n",
        "```\n",
        "0 0 -> 0\n",
        "0 1 -> 1\n",
        "1 0 -> 1\n",
        "1 1 -> 1\n",
        "```\n",
        "\n",
        "Let's start with generating the training data"
      ]
    },
    {
      "metadata": {
        "id": "cIRbE8yv5LkY",
        "colab_type": "code",
        "colab": {
          "base_uri": "https://localhost:8080/",
          "height": 51
        },
        "outputId": "3e941f25-ef18-42c7-be96-7f672ad2f8fd"
      },
      "cell_type": "code",
      "source": [
        "import numpy as np\n",
        "binary_pairs = np.random.choice([0,1], [100,2])\n",
        "or_output = np.logical_or(binary_pairs[:,0], binary_pairs[:,1]).astype(int)\n",
        "print(binary_pairs.shape)\n",
        "print(or_output.shape)"
      ],
      "execution_count": 25,
      "outputs": [
        {
          "output_type": "stream",
          "text": [
            "(100, 2)\n",
            "(100,)\n"
          ],
          "name": "stdout"
        }
      ]
    },
    {
      "metadata": {
        "id": "OYtY3ouS_Ekh",
        "colab_type": "text"
      },
      "cell_type": "markdown",
      "source": [
        "We will start with a very simple model. A single dense (fully connected) layer \n",
        "with one unit. Basically this is equivalent to a single artificial neuron. We will further minimize the\n",
        "number of trainable parameters by skipping the bias factor."
      ]
    },
    {
      "metadata": {
        "id": "nbDDjRgv2ggy",
        "colab_type": "code",
        "colab": {
          "base_uri": "https://localhost:8080/",
          "height": 170
        },
        "outputId": "cfa8b307-95d1-4a08-ad05-5afef5fe2e83"
      },
      "cell_type": "code",
      "source": [
        "from keras.models import Sequential\n",
        "from keras.layers import Dense\n",
        "from keras.optimizers import Adam\n",
        "\n",
        "def get_model1():\n",
        "  model1 = Sequential()\n",
        "  model1.add(Dense(1, activation='sigmoid', input_shape=(2,), use_bias=False))\n",
        "  model1.compile(loss='binary_crossentropy',\n",
        "                optimizer=Adam(lr=0.01),\n",
        "                metrics=['accuracy'])\n",
        "  return model1\n",
        "\n",
        "get_model1().summary()"
      ],
      "execution_count": 26,
      "outputs": [
        {
          "output_type": "stream",
          "text": [
            "_________________________________________________________________\n",
            "Layer (type)                 Output Shape              Param #   \n",
            "=================================================================\n",
            "dense_19 (Dense)             (None, 1)                 2         \n",
            "=================================================================\n",
            "Total params: 2\n",
            "Trainable params: 2\n",
            "Non-trainable params: 0\n",
            "_________________________________________________________________\n"
          ],
          "name": "stdout"
        }
      ]
    },
    {
      "metadata": {
        "id": "cLf1wyMfjeh0",
        "colab_type": "code",
        "colab": {
          "base_uri": "https://localhost:8080/",
          "height": 188
        },
        "outputId": "b3c66c62-a55f-43cd-b10a-e1d0abd966e4"
      },
      "cell_type": "code",
      "source": [
        "from keras.utils import plot_model\n",
        "from IPython.display import Image\n",
        "\n",
        "def plot_model_notebook(model):\n",
        "  plot_model(model, show_shapes=True, to_file='model1.png')\n",
        "  return Image(filename='model1.png')\n",
        "  \n",
        "plot_model_notebook(get_model1())"
      ],
      "execution_count": 27,
      "outputs": [
        {
          "output_type": "execute_result",
          "data": {
            "image/png": "[encoded data removed]",
            "text/plain": [
              "<IPython.core.display.Image object>"
            ]
          },
          "metadata": {
            "tags": []
          },
          "execution_count": 27
        }
      ]
    },
    {
      "metadata": {
        "id": "p9vIufUo_bjc",
        "colab_type": "text"
      },
      "cell_type": "markdown",
      "source": [
        "Now that the network is define lets train it and check the results."
      ]
    },
    {
      "metadata": {
        "id": "wKdXgcyQ3dNV",
        "colab_type": "code",
        "colab": {
          "base_uri": "https://localhost:8080/",
          "height": 376
        },
        "outputId": "d9e27111-22f4-4c97-9d60-6a90e0458a42"
      },
      "cell_type": "code",
      "source": [
        "import pylab as plt\n",
        "def fit_and_plot(model, X, y):\n",
        "  history = model.fit(X, y, epochs=100, batch_size=1, verbose=0)\n",
        "  plt.plot(history.history['loss'])\n",
        "  plt.ylim([-0.001, plt.ylim()[1]])\n",
        "  plt.title('Model loss')\n",
        "  plt.ylabel('Loss')\n",
        "  plt.xlabel('Epoch')\n",
        "  plt.show()\n",
        "  \n",
        "  return model\n",
        "  \n",
        "trained_model1_or = fit_and_plot(get_model1(), binary_pairs, or_output)"
      ],
      "execution_count": 28,
      "outputs": [
        {
          "output_type": "display_data",
          "data": {
            "image/png": "[encoded data removed]",
            "text/plain": [
              "<matplotlib.figure.Figure at 0x7f94bc8cec18>"
            ]
          },
          "metadata": {
            "tags": []
          }
        }
      ]
    },
    {
      "metadata": {
        "id": "ZOnV8FVC_kZm",
        "colab_type": "text"
      },
      "cell_type": "markdown",
      "source": [
        "As you can see training the network does not lead to zero loss. Something is wrong. Lets check the all four combinations of inputs to see how the network perfoms."
      ]
    },
    {
      "metadata": {
        "id": "MNaZVOm14nKP",
        "colab_type": "code",
        "colab": {
          "base_uri": "https://localhost:8080/",
          "height": 85
        },
        "outputId": "3cc94a98-b927-41fc-e9ac-295fb02409b2"
      },
      "cell_type": "code",
      "source": [
        "trained_model1_or.predict(np.array([[0,0],[0,1], [1,0], [1,1]]))"
      ],
      "execution_count": 5,
      "outputs": [
        {
          "output_type": "execute_result",
          "data": {
            "text/plain": [
              "array([[0.5       ],\n",
              "       [0.99988115],\n",
              "       [0.99979   ],\n",
              "       [1.        ]], dtype=float32)"
            ]
          },
          "metadata": {
            "tags": []
          },
          "execution_count": 5
        }
      ]
    },
    {
      "metadata": {
        "id": "hkPhv2Z__zli",
        "colab_type": "text"
      },
      "cell_type": "markdown",
      "source": [
        "Outputs ar roughly correct for `0 1`, `1 0`, and  `1 1`inputs, but quite off for `0 0`. Lets investigate the weights to see what's going on."
      ]
    },
    {
      "metadata": {
        "id": "EvyvSjFyIcut",
        "colab_type": "code",
        "colab": {
          "base_uri": "https://localhost:8080/",
          "height": 68
        },
        "outputId": "6c821dd5-cbb4-48eb-8fee-78e35a4cb580"
      },
      "cell_type": "code",
      "source": [
        "for layer in trained_model1_or.layers:\n",
        "  print(layer.name)\n",
        "  print(layer.get_weights())"
      ],
      "execution_count": 29,
      "outputs": [
        {
          "output_type": "stream",
          "text": [
            "dense_21\n",
            "[array([[8.582448],\n",
            "       [9.23152 ]], dtype=float32)]\n"
          ],
          "name": "stdout"
        }
      ]
    },
    {
      "metadata": {
        "id": "qas8-rXfAPMm",
        "colab_type": "text"
      },
      "cell_type": "markdown",
      "source": [
        "There are two positive weights for the two inputs. This will lead to input of the activation function to be `>1` for `0 1`,  and `1 0` and `1 1` which translates to a correct output of `~1`. However, for `0 0` the input to the activation function will be `0` leading to `0.5` output. Wee need an offset to translate keep this `0` after applying the activation function. Lets create a model with a trainable offset/bias parameter."
      ]
    },
    {
      "metadata": {
        "id": "d4Zi2wwt4nt1",
        "colab_type": "code",
        "colab": {
          "base_uri": "https://localhost:8080/",
          "height": 170
        },
        "outputId": "bd0047e1-1056-4608-a728-52dab2ad5f00"
      },
      "cell_type": "code",
      "source": [
        "def get_model2():\n",
        "  model2 = Sequential()\n",
        "  model2.add(Dense(1, activation='sigmoid', input_shape=(2,), use_bias=True))\n",
        "  model2.compile(loss='binary_crossentropy',\n",
        "                optimizer=Adam(lr=0.01),\n",
        "                metrics=['accuracy'])\n",
        "  return model2\n",
        "\n",
        "get_model2().summary()"
      ],
      "execution_count": 30,
      "outputs": [
        {
          "output_type": "stream",
          "text": [
            "_________________________________________________________________\n",
            "Layer (type)                 Output Shape              Param #   \n",
            "=================================================================\n",
            "dense_22 (Dense)             (None, 1)                 3         \n",
            "=================================================================\n",
            "Total params: 3\n",
            "Trainable params: 3\n",
            "Non-trainable params: 0\n",
            "_________________________________________________________________\n"
          ],
          "name": "stdout"
        }
      ]
    },
    {
      "metadata": {
        "id": "-g3bxCOElbbw",
        "colab_type": "code",
        "colab": {
          "base_uri": "https://localhost:8080/",
          "height": 188
        },
        "outputId": "e4f0a1b7-223b-428b-85ff-d4bac7196318"
      },
      "cell_type": "code",
      "source": [
        "plot_model_notebook(get_model2())"
      ],
      "execution_count": 31,
      "outputs": [
        {
          "output_type": "execute_result",
          "data": {
            "image/png": "[encoded data removed]",
            "text/plain": [
              "<IPython.core.display.Image object>"
            ]
          },
          "metadata": {
            "tags": []
          },
          "execution_count": 31
        }
      ]
    },
    {
      "metadata": {
        "id": "-xAV78j35Bjb",
        "colab_type": "code",
        "colab": {
          "base_uri": "https://localhost:8080/",
          "height": 376
        },
        "outputId": "3792c311-8e86-4da7-dfee-5e7115ea422d"
      },
      "cell_type": "code",
      "source": [
        "trained_model2_or = fit_and_plot(get_model2(), binary_pairs, or_output)"
      ],
      "execution_count": 32,
      "outputs": [
        {
          "output_type": "display_data",
          "data": {
            "image/png": "[encoded data removed]",
            "text/plain": [
              "<matplotlib.figure.Figure at 0x7f94bc569d68>"
            ]
          },
          "metadata": {
            "tags": []
          }
        }
      ]
    },
    {
      "metadata": {
        "id": "UvPUZwM29KWA",
        "colab_type": "code",
        "colab": {
          "base_uri": "https://localhost:8080/",
          "height": 85
        },
        "outputId": "f465e4d9-3ad1-44ab-b385-fd473b86b3d5"
      },
      "cell_type": "code",
      "source": [
        "trained_model2_or.predict(np.array([[0,0],[0,1], [1,0], [1,1]]))"
      ],
      "execution_count": 10,
      "outputs": [
        {
          "output_type": "execute_result",
          "data": {
            "text/plain": [
              "array([[0.00174917],\n",
              "       [0.9997861 ],\n",
              "       [0.9995395 ],\n",
              "       [1.        ]], dtype=float32)"
            ]
          },
          "metadata": {
            "tags": []
          },
          "execution_count": 10
        }
      ]
    },
    {
      "metadata": {
        "id": "R4ZPm4YbBWgW",
        "colab_type": "text"
      },
      "cell_type": "markdown",
      "source": [
        "The new model minimizes the loss to almost zero and gives correct answers! Lets see what value did the bias factor get."
      ]
    },
    {
      "metadata": {
        "id": "CAej9kUT9S31",
        "colab_type": "code",
        "colab": {
          "base_uri": "https://localhost:8080/",
          "height": 51
        },
        "outputId": "1267d6e1-1198-4473-da81-dabc17d606ae"
      },
      "cell_type": "code",
      "source": [
        "for layer in trained_model2_or.layers:\n",
        "  print(layer.get_weights())"
      ],
      "execution_count": 38,
      "outputs": [
        {
          "output_type": "stream",
          "text": [
            "[array([[14.060149],\n",
            "       [13.798986]], dtype=float32), array([-6.1880016], dtype=float32)]\n"
          ],
          "name": "stdout"
        }
      ]
    },
    {
      "metadata": {
        "id": "29kPhqSfBkE-",
        "colab_type": "text"
      },
      "cell_type": "markdown",
      "source": [
        "Bias factor was trained to a negative value effectively offseting the center of the activation function. Finally zeros remain zeros!\n",
        "\n",
        "Lets see if this architecture can learn how to perform logical AND."
      ]
    },
    {
      "metadata": {
        "id": "1sObkn6rCBoI",
        "colab_type": "text"
      },
      "cell_type": "markdown",
      "source": [
        "## Logical AND"
      ]
    },
    {
      "metadata": {
        "id": "dLMGTf4e-o-c",
        "colab_type": "code",
        "colab": {}
      },
      "cell_type": "code",
      "source": [
        "and_output = np.logical_and(binary_pairs[:,0], binary_pairs[:,1]).astype(int)"
      ],
      "execution_count": 0,
      "outputs": []
    },
    {
      "metadata": {
        "id": "0-YxJj6p9dJx",
        "colab_type": "code",
        "colab": {
          "base_uri": "https://localhost:8080/",
          "height": 376
        },
        "outputId": "3d56f31c-d6ff-4c04-dc47-0f39e1a57cee"
      },
      "cell_type": "code",
      "source": [
        "trained_model2_and = fit_and_plot(get_model2(), binary_pairs, and_output)"
      ],
      "execution_count": 35,
      "outputs": [
        {
          "output_type": "display_data",
          "data": {
            "image/png": "[encoded data removed]",
            "text/plain": [
              "<matplotlib.figure.Figure at 0x7f94bcdff358>"
            ]
          },
          "metadata": {
            "tags": []
          }
        }
      ]
    },
    {
      "metadata": {
        "id": "aykH-JRILWzP",
        "colab_type": "code",
        "colab": {
          "base_uri": "https://localhost:8080/",
          "height": 85
        },
        "outputId": "1e9f819b-a248-477b-d035-359aacf63b40"
      },
      "cell_type": "code",
      "source": [
        "trained_model2_and.predict(np.array([[0,0],[0,1], [1,0], [1,1]]))"
      ],
      "execution_count": 36,
      "outputs": [
        {
          "output_type": "execute_result",
          "data": {
            "text/plain": [
              "array([[5.3581284e-06],\n",
              "       [1.6192757e-02],\n",
              "       [1.6182886e-02],\n",
              "       [9.8059332e-01]], dtype=float32)"
            ]
          },
          "metadata": {
            "tags": []
          },
          "execution_count": 36
        }
      ]
    },
    {
      "metadata": {
        "id": "mIONxePwLb4b",
        "colab_type": "code",
        "colab": {
          "base_uri": "https://localhost:8080/",
          "height": 68
        },
        "outputId": "a5d9d1a0-b069-4a7f-f804-48b326a1c54d"
      },
      "cell_type": "code",
      "source": [
        "for layer in trained_model2_and.layers:\n",
        "  print(layer.name)\n",
        "  print(layer.get_weights())"
      ],
      "execution_count": 37,
      "outputs": [
        {
          "output_type": "stream",
          "text": [
            "dense_25\n",
            "[array([[8.029405],\n",
            "       [8.030025]], dtype=float32), array([-12.13689], dtype=float32)]\n"
          ],
          "name": "stdout"
        }
      ]
    },
    {
      "metadata": {
        "id": "1OcO29jeCUYX",
        "colab_type": "text"
      },
      "cell_type": "markdown",
      "source": [
        "No problems! Close to zero loss and correct answer. Notice that the trained weights are similar to OR. The main difference is that for AND the absolute value of the offset is larger than the absolute value of any single weight. Thus to reach activation (`output == 1`) both inputs need to be set to `1` to overcome the offset (instead of only one in case of OR).\n",
        "\n",
        "Final challenge - lets see if this will cope with XOR."
      ]
    },
    {
      "metadata": {
        "id": "JmvYTo-_C-hI",
        "colab_type": "text"
      },
      "cell_type": "markdown",
      "source": [
        "## Logical XOR"
      ]
    },
    {
      "metadata": {
        "id": "gwL5f4mT-sI1",
        "colab_type": "code",
        "colab": {}
      },
      "cell_type": "code",
      "source": [
        "xor_output = np.logical_xor(binary_pairs[:,0], binary_pairs[:,1]).astype(int)"
      ],
      "execution_count": 0,
      "outputs": []
    },
    {
      "metadata": {
        "id": "aRr17FEeLw4U",
        "colab_type": "code",
        "colab": {
          "base_uri": "https://localhost:8080/",
          "height": 376
        },
        "outputId": "21d83ab9-c199-4901-a96d-89cb4480e233"
      },
      "cell_type": "code",
      "source": [
        "trained_model2_xor = fit_and_plot(get_model2(), binary_pairs, xor_output)"
      ],
      "execution_count": 40,
      "outputs": [
        {
          "output_type": "display_data",
          "data": {
            "image/png": "[encoded data removed]",
            "text/plain": [
              "<matplotlib.figure.Figure at 0x7f94f41dec18>"
            ]
          },
          "metadata": {
            "tags": []
          }
        }
      ]
    },
    {
      "metadata": {
        "id": "h4H8eissMomw",
        "colab_type": "code",
        "colab": {
          "base_uri": "https://localhost:8080/",
          "height": 85
        },
        "outputId": "d99d290a-263e-452f-9c21-807917ab20a4"
      },
      "cell_type": "code",
      "source": [
        "trained_model2_xor.predict(np.array([[0,0],[0,1], [1,0], [1,1]]))"
      ],
      "execution_count": 16,
      "outputs": [
        {
          "output_type": "execute_result",
          "data": {
            "text/plain": [
              "array([[0.610229  ],\n",
              "       [0.602673  ],\n",
              "       [0.48691767],\n",
              "       [0.47901198]], dtype=float32)"
            ]
          },
          "metadata": {
            "tags": []
          },
          "execution_count": 16
        }
      ]
    },
    {
      "metadata": {
        "id": "CdZ38XnmDSyg",
        "colab_type": "text"
      },
      "cell_type": "markdown",
      "source": [
        "This does not look great. Loss is not even near zero and results look pretty random. This is because the XOR operation is not linearly separable (see this [post](https://medium.com/@jayeshbahire/the-xor-problem-in-neural-networks-50006411840b) for more in depth explanation). To solve non-linear problems like XOR we need more than one layer. Lets construct a deeper network:"
      ]
    },
    {
      "metadata": {
        "id": "_Iz0kNVAAXxV",
        "colab_type": "code",
        "colab": {
          "base_uri": "https://localhost:8080/",
          "height": 204
        },
        "outputId": "24b8d123-58c9-41de-d1a7-3d96ecfe1bd3"
      },
      "cell_type": "code",
      "source": [
        "def get_model3():\n",
        "  model3 = Sequential()\n",
        "  model3.add(Dense(2, activation='sigmoid', input_shape=(2,), use_bias=True))\n",
        "  model3.add(Dense(1, activation='sigmoid'))\n",
        "  model3.compile(loss='binary_crossentropy',\n",
        "                optimizer=Adam(lr=0.01),\n",
        "                metrics=['accuracy'])\n",
        "  return model3\n",
        "\n",
        "get_model3().summary()"
      ],
      "execution_count": 41,
      "outputs": [
        {
          "output_type": "stream",
          "text": [
            "_________________________________________________________________\n",
            "Layer (type)                 Output Shape              Param #   \n",
            "=================================================================\n",
            "dense_27 (Dense)             (None, 2)                 6         \n",
            "_________________________________________________________________\n",
            "dense_28 (Dense)             (None, 1)                 3         \n",
            "=================================================================\n",
            "Total params: 9\n",
            "Trainable params: 9\n",
            "Non-trainable params: 0\n",
            "_________________________________________________________________\n"
          ],
          "name": "stdout"
        }
      ]
    },
    {
      "metadata": {
        "id": "LvynYSJUoqHH",
        "colab_type": "code",
        "colab": {
          "base_uri": "https://localhost:8080/",
          "height": 298
        },
        "outputId": "593f87d5-d132-49bb-8427-c6cd93f4d859"
      },
      "cell_type": "code",
      "source": [
        "plot_model_notebook(get_model3())"
      ],
      "execution_count": 42,
      "outputs": [
        {
          "output_type": "execute_result",
          "data": {
            "image/png": "[encoded data removed]",
            "text/plain": [
              "<IPython.core.display.Image object>"
            ]
          },
          "metadata": {
            "tags": []
          },
          "execution_count": 42
        }
      ]
    },
    {
      "metadata": {
        "id": "1sBka6FzMvCM",
        "colab_type": "code",
        "colab": {
          "base_uri": "https://localhost:8080/",
          "height": 376
        },
        "outputId": "e6ba1a72-9518-4175-ed49-cc765d4815e1"
      },
      "cell_type": "code",
      "source": [
        "trained_model3_xor = fit_and_plot(get_model3(), binary_pairs, xor_output)"
      ],
      "execution_count": 43,
      "outputs": [
        {
          "output_type": "display_data",
          "data": {
            "image/png": "[encoded data removed]",
            "text/plain": [
              "<matplotlib.figure.Figure at 0x7f94bbc16b00>"
            ]
          },
          "metadata": {
            "tags": []
          }
        }
      ]
    },
    {
      "metadata": {
        "id": "jPxjIMp4MzDo",
        "colab_type": "code",
        "colab": {
          "base_uri": "https://localhost:8080/",
          "height": 85
        },
        "outputId": "6583da03-5907-4d79-edb5-098939f9aa12"
      },
      "cell_type": "code",
      "source": [
        "trained_model3_xor.predict(np.array([[0,0],[0,1], [1,0], [1,1]]))"
      ],
      "execution_count": 44,
      "outputs": [
        {
          "output_type": "execute_result",
          "data": {
            "text/plain": [
              "array([[0.00316234],\n",
              "       [0.99859256],\n",
              "       [0.9983375 ],\n",
              "       [0.00263315]], dtype=float32)"
            ]
          },
          "metadata": {
            "tags": []
          },
          "execution_count": 44
        }
      ]
    },
    {
      "metadata": {
        "id": "ZIxHpj3gFHKj",
        "colab_type": "text"
      },
      "cell_type": "markdown",
      "source": [
        "Success! Zero loss and sensible outputs! Lets see how the network does it!"
      ]
    },
    {
      "metadata": {
        "id": "Ow370pinpDNA",
        "colab_type": "code",
        "colab": {
          "base_uri": "https://localhost:8080/",
          "height": 119
        },
        "outputId": "dd2b23fb-049e-44e4-faac-1208a930db78"
      },
      "cell_type": "code",
      "source": [
        "for layer in trained_model3_xor.layers:\n",
        "  print(layer.name)\n",
        "  print(layer.get_weights())"
      ],
      "execution_count": 45,
      "outputs": [
        {
          "output_type": "stream",
          "text": [
            "dense_31\n",
            "[array([[  8.267677, -11.535341],\n",
            "       [ -9.558922,   9.911973]], dtype=float32), array([-4.288592 , -5.1230717], dtype=float32)]\n",
            "dense_32\n",
            "[array([[12.628891],\n",
            "       [12.668411]], dtype=float32), array([-5.99928], dtype=float32)]\n"
          ],
          "name": "stdout"
        }
      ]
    },
    {
      "metadata": {
        "id": "VxQM3A8iGVg7",
        "colab_type": "text"
      },
      "cell_type": "markdown",
      "source": [
        "The neurons in the first layer detect `1 0` and `0 1` respectively. The neuron in the second layer practically performs an OR operation on the outputs of neurons from the first layer.\n",
        "\n",
        "Problem solved, but is the new architecture specific to the XOR problem or can it still solve OR and AND? Lets check."
      ]
    },
    {
      "metadata": {
        "id": "hYCsY2BgNHlc",
        "colab_type": "code",
        "colab": {
          "base_uri": "https://localhost:8080/",
          "height": 376
        },
        "outputId": "483f18fb-f25d-4d93-8c3a-8e080987fe6f"
      },
      "cell_type": "code",
      "source": [
        "trained_model3_or = fit_and_plot(get_model3(), binary_pairs, or_output)"
      ],
      "execution_count": 46,
      "outputs": [
        {
          "output_type": "display_data",
          "data": {
            "image/png": "[encoded data removed]",
            "text/plain": [
              "<matplotlib.figure.Figure at 0x7f94bd18b390>"
            ]
          },
          "metadata": {
            "tags": []
          }
        }
      ]
    },
    {
      "metadata": {
        "id": "erIbxmi_U0hu",
        "colab_type": "code",
        "colab": {
          "base_uri": "https://localhost:8080/",
          "height": 376
        },
        "outputId": "94eaa441-565e-4332-8733-666768c4d335"
      },
      "cell_type": "code",
      "source": [
        "trained_model3_and = fit_and_plot(get_model3(), binary_pairs, and_output)"
      ],
      "execution_count": 47,
      "outputs": [
        {
          "output_type": "display_data",
          "data": {
            "image/png": "[encoded data removed]",
            "text/plain": [
              "<matplotlib.figure.Figure at 0x7f94bc637e48>"
            ]
          },
          "metadata": {
            "tags": []
          }
        }
      ]
    },
    {
      "metadata": {
        "id": "QUaCP5gdGz2G",
        "colab_type": "text"
      },
      "cell_type": "markdown",
      "source": [
        "No problems. The architecture generalizes to all three operations."
      ]
    },
    {
      "metadata": {
        "id": "lkajcu91IwTq",
        "colab_type": "text"
      },
      "cell_type": "markdown",
      "source": [
        "## Summary\n",
        "Working with trivial examples such as logical operations has some advantages. In contrast to complex models we can interrogate and understand individual weights and thus get a better grasp of the system."
      ]
    }
  ]
}